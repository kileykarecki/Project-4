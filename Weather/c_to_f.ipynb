version https://git-lfs.github.com/spec/v1
oid sha256:48145d2982058afe6b6970ac82c47cf352776fe3035dd64eda39174c22f6fe9d
size 53880
