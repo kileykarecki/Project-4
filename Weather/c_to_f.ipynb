version https://git-lfs.github.com/spec/v1
oid sha256:71d68346991723c9ac1cc842604d2e15ffab2c8a614c20d4a5505b08da21fe3e
size 56237
