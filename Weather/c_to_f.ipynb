version https://git-lfs.github.com/spec/v1
oid sha256:8a9a6d1a675fe45f2cd95c88b33498fd12bd8d109f32de59d800f5a497380e8a
size 54080
