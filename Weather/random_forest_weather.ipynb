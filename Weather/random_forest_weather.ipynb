{
 "cells": [
  {
   "cell_type": "code",
   "execution_count": 33,
   "metadata": {},
   "outputs": [],
   "source": [
    "import pandas as pd\n",
    "import numpy as np\n",
    "import matplotlib.pyplot as plt\n",
    "import seaborn as sns\n",
    "from sklearn.model_selection import train_test_split\n",
    "from sklearn.preprocessing import PolynomialFeatures, OneHotEncoder, StandardScaler\n",
    "from sklearn.linear_model import LinearRegression\n",
    "from sklearn.metrics import mean_squared_error, r2_score\n",
    "from datetime import datetime as dt\n",
    "from sklearn.ensemble import RandomForestRegressor\n",
    "from sklearn.metrics import confusion_matrix, accuracy_score, classification_report\n"
   ]
  },
  {
   "cell_type": "code",
   "execution_count": 2,
   "metadata": {},
   "outputs": [
    {
     "data": {
      "text/html": [
       "<div>\n",
       "<style scoped>\n",
       "    .dataframe tbody tr th:only-of-type {\n",
       "        vertical-align: middle;\n",
       "    }\n",
       "\n",
       "    .dataframe tbody tr th {\n",
       "        vertical-align: top;\n",
       "    }\n",
       "\n",
       "    .dataframe thead th {\n",
       "        text-align: right;\n",
       "    }\n",
       "</style>\n",
       "<table border=\"1\" class=\"dataframe\">\n",
       "  <thead>\n",
       "    <tr style=\"text-align: right;\">\n",
       "      <th></th>\n",
       "      <th>date</th>\n",
       "      <th>tavg_f</th>\n",
       "      <th>tmin_f</th>\n",
       "      <th>tmax_f</th>\n",
       "      <th>Location</th>\n",
       "    </tr>\n",
       "  </thead>\n",
       "  <tbody>\n",
       "    <tr>\n",
       "      <th>0</th>\n",
       "      <td>736695</td>\n",
       "      <td>56.12</td>\n",
       "      <td>46.04</td>\n",
       "      <td>69.98</td>\n",
       "      <td>Anaheim</td>\n",
       "    </tr>\n",
       "    <tr>\n",
       "      <th>1</th>\n",
       "      <td>736696</td>\n",
       "      <td>60.80</td>\n",
       "      <td>51.08</td>\n",
       "      <td>78.98</td>\n",
       "      <td>Anaheim</td>\n",
       "    </tr>\n",
       "    <tr>\n",
       "      <th>2</th>\n",
       "      <td>736697</td>\n",
       "      <td>61.34</td>\n",
       "      <td>51.08</td>\n",
       "      <td>73.94</td>\n",
       "      <td>Anaheim</td>\n",
       "    </tr>\n",
       "    <tr>\n",
       "      <th>3</th>\n",
       "      <td>736698</td>\n",
       "      <td>62.06</td>\n",
       "      <td>50.00</td>\n",
       "      <td>77.00</td>\n",
       "      <td>Anaheim</td>\n",
       "    </tr>\n",
       "    <tr>\n",
       "      <th>4</th>\n",
       "      <td>736699</td>\n",
       "      <td>62.24</td>\n",
       "      <td>51.98</td>\n",
       "      <td>75.02</td>\n",
       "      <td>Anaheim</td>\n",
       "    </tr>\n",
       "  </tbody>\n",
       "</table>\n",
       "</div>"
      ],
      "text/plain": [
       "     date  tavg_f  tmin_f  tmax_f Location\n",
       "0  736695   56.12   46.04   69.98  Anaheim\n",
       "1  736696   60.80   51.08   78.98  Anaheim\n",
       "2  736697   61.34   51.08   73.94  Anaheim\n",
       "3  736698   62.06   50.00   77.00  Anaheim\n",
       "4  736699   62.24   51.98   75.02  Anaheim"
      ]
     },
     "execution_count": 2,
     "metadata": {},
     "output_type": "execute_result"
    }
   ],
   "source": [
    "# Read in csv\n",
    "df_temps = pd.read_csv('Resources/combined_weather_f.csv')\n",
    "df_temps.head()"
   ]
  },
  {
   "cell_type": "code",
   "execution_count": 3,
   "metadata": {},
   "outputs": [
    {
     "name": "stdout",
     "output_type": "stream",
     "text": [
      "<class 'pandas.core.frame.DataFrame'>\n",
      "RangeIndex: 8758 entries, 0 to 8757\n",
      "Data columns (total 5 columns):\n",
      " #   Column    Non-Null Count  Dtype  \n",
      "---  ------    --------------  -----  \n",
      " 0   date      8758 non-null   int64  \n",
      " 1   tavg_f    8758 non-null   float64\n",
      " 2   tmin_f    8758 non-null   float64\n",
      " 3   tmax_f    8758 non-null   float64\n",
      " 4   Location  8758 non-null   object \n",
      "dtypes: float64(3), int64(1), object(1)\n",
      "memory usage: 342.2+ KB\n"
     ]
    }
   ],
   "source": [
    "df_temps.info()"
   ]
  },
  {
   "cell_type": "code",
   "execution_count": 4,
   "metadata": {},
   "outputs": [
    {
     "data": {
      "text/plain": [
       "['Location']"
      ]
     },
     "execution_count": 4,
     "metadata": {},
     "output_type": "execute_result"
    }
   ],
   "source": [
    "# Separate out categories for One Hot Encoding\n",
    "cats = df_temps.dtypes[df_temps.dtypes == 'object'].index.tolist()\n",
    "cats"
   ]
  },
  {
   "cell_type": "code",
   "execution_count": 5,
   "metadata": {},
   "outputs": [
    {
     "data": {
      "text/html": [
       "<div>\n",
       "<style scoped>\n",
       "    .dataframe tbody tr th:only-of-type {\n",
       "        vertical-align: middle;\n",
       "    }\n",
       "\n",
       "    .dataframe tbody tr th {\n",
       "        vertical-align: top;\n",
       "    }\n",
       "\n",
       "    .dataframe thead th {\n",
       "        text-align: right;\n",
       "    }\n",
       "</style>\n",
       "<table border=\"1\" class=\"dataframe\">\n",
       "  <thead>\n",
       "    <tr style=\"text-align: right;\">\n",
       "      <th></th>\n",
       "      <th>Location_Anaheim</th>\n",
       "      <th>Location_Epcot</th>\n",
       "      <th>Location_Hong Kong</th>\n",
       "      <th>Location_Paris</th>\n",
       "    </tr>\n",
       "  </thead>\n",
       "  <tbody>\n",
       "    <tr>\n",
       "      <th>0</th>\n",
       "      <td>1.0</td>\n",
       "      <td>0.0</td>\n",
       "      <td>0.0</td>\n",
       "      <td>0.0</td>\n",
       "    </tr>\n",
       "    <tr>\n",
       "      <th>1</th>\n",
       "      <td>1.0</td>\n",
       "      <td>0.0</td>\n",
       "      <td>0.0</td>\n",
       "      <td>0.0</td>\n",
       "    </tr>\n",
       "    <tr>\n",
       "      <th>2</th>\n",
       "      <td>1.0</td>\n",
       "      <td>0.0</td>\n",
       "      <td>0.0</td>\n",
       "      <td>0.0</td>\n",
       "    </tr>\n",
       "    <tr>\n",
       "      <th>3</th>\n",
       "      <td>1.0</td>\n",
       "      <td>0.0</td>\n",
       "      <td>0.0</td>\n",
       "      <td>0.0</td>\n",
       "    </tr>\n",
       "    <tr>\n",
       "      <th>4</th>\n",
       "      <td>1.0</td>\n",
       "      <td>0.0</td>\n",
       "      <td>0.0</td>\n",
       "      <td>0.0</td>\n",
       "    </tr>\n",
       "    <tr>\n",
       "      <th>...</th>\n",
       "      <td>...</td>\n",
       "      <td>...</td>\n",
       "      <td>...</td>\n",
       "      <td>...</td>\n",
       "    </tr>\n",
       "    <tr>\n",
       "      <th>8753</th>\n",
       "      <td>0.0</td>\n",
       "      <td>0.0</td>\n",
       "      <td>1.0</td>\n",
       "      <td>0.0</td>\n",
       "    </tr>\n",
       "    <tr>\n",
       "      <th>8754</th>\n",
       "      <td>0.0</td>\n",
       "      <td>0.0</td>\n",
       "      <td>1.0</td>\n",
       "      <td>0.0</td>\n",
       "    </tr>\n",
       "    <tr>\n",
       "      <th>8755</th>\n",
       "      <td>0.0</td>\n",
       "      <td>0.0</td>\n",
       "      <td>1.0</td>\n",
       "      <td>0.0</td>\n",
       "    </tr>\n",
       "    <tr>\n",
       "      <th>8756</th>\n",
       "      <td>0.0</td>\n",
       "      <td>0.0</td>\n",
       "      <td>1.0</td>\n",
       "      <td>0.0</td>\n",
       "    </tr>\n",
       "    <tr>\n",
       "      <th>8757</th>\n",
       "      <td>0.0</td>\n",
       "      <td>0.0</td>\n",
       "      <td>1.0</td>\n",
       "      <td>0.0</td>\n",
       "    </tr>\n",
       "  </tbody>\n",
       "</table>\n",
       "<p>8758 rows × 4 columns</p>\n",
       "</div>"
      ],
      "text/plain": [
       "      Location_Anaheim  Location_Epcot  Location_Hong Kong  Location_Paris\n",
       "0                  1.0             0.0                 0.0             0.0\n",
       "1                  1.0             0.0                 0.0             0.0\n",
       "2                  1.0             0.0                 0.0             0.0\n",
       "3                  1.0             0.0                 0.0             0.0\n",
       "4                  1.0             0.0                 0.0             0.0\n",
       "...                ...             ...                 ...             ...\n",
       "8753               0.0             0.0                 1.0             0.0\n",
       "8754               0.0             0.0                 1.0             0.0\n",
       "8755               0.0             0.0                 1.0             0.0\n",
       "8756               0.0             0.0                 1.0             0.0\n",
       "8757               0.0             0.0                 1.0             0.0\n",
       "\n",
       "[8758 rows x 4 columns]"
      ]
     },
     "execution_count": 5,
     "metadata": {},
     "output_type": "execute_result"
    }
   ],
   "source": [
    "# One Hot Encoding for binary classification of locations\n",
    "\n",
    "enc = OneHotEncoder(sparse_output=False)\n",
    "\n",
    "encode_df = pd.DataFrame(enc.fit_transform(df_temps[cats]))\n",
    "\n",
    "encode_df.columns = enc.get_feature_names_out(['Location'])\n",
    "encode_df"
   ]
  },
  {
   "cell_type": "code",
   "execution_count": 6,
   "metadata": {},
   "outputs": [
    {
     "name": "stdout",
     "output_type": "stream",
     "text": [
      "<class 'pandas.core.frame.DataFrame'>\n",
      "RangeIndex: 8758 entries, 0 to 8757\n",
      "Data columns (total 4 columns):\n",
      " #   Column              Non-Null Count  Dtype  \n",
      "---  ------              --------------  -----  \n",
      " 0   Location_Anaheim    8758 non-null   float64\n",
      " 1   Location_Epcot      8758 non-null   float64\n",
      " 2   Location_Hong Kong  8758 non-null   float64\n",
      " 3   Location_Paris      8758 non-null   float64\n",
      "dtypes: float64(4)\n",
      "memory usage: 273.8 KB\n"
     ]
    }
   ],
   "source": [
    "encode_df.info()"
   ]
  },
  {
   "cell_type": "code",
   "execution_count": 7,
   "metadata": {},
   "outputs": [
    {
     "data": {
      "text/html": [
       "<div>\n",
       "<style scoped>\n",
       "    .dataframe tbody tr th:only-of-type {\n",
       "        vertical-align: middle;\n",
       "    }\n",
       "\n",
       "    .dataframe tbody tr th {\n",
       "        vertical-align: top;\n",
       "    }\n",
       "\n",
       "    .dataframe thead th {\n",
       "        text-align: right;\n",
       "    }\n",
       "</style>\n",
       "<table border=\"1\" class=\"dataframe\">\n",
       "  <thead>\n",
       "    <tr style=\"text-align: right;\">\n",
       "      <th></th>\n",
       "      <th>date</th>\n",
       "      <th>tavg_f</th>\n",
       "      <th>tmin_f</th>\n",
       "      <th>tmax_f</th>\n",
       "      <th>Location</th>\n",
       "      <th>Location_Anaheim</th>\n",
       "      <th>Location_Epcot</th>\n",
       "      <th>Location_Hong Kong</th>\n",
       "      <th>Location_Paris</th>\n",
       "    </tr>\n",
       "  </thead>\n",
       "  <tbody>\n",
       "    <tr>\n",
       "      <th>0</th>\n",
       "      <td>736695</td>\n",
       "      <td>56.12</td>\n",
       "      <td>46.04</td>\n",
       "      <td>69.98</td>\n",
       "      <td>Anaheim</td>\n",
       "      <td>1.0</td>\n",
       "      <td>0.0</td>\n",
       "      <td>0.0</td>\n",
       "      <td>0.0</td>\n",
       "    </tr>\n",
       "    <tr>\n",
       "      <th>1</th>\n",
       "      <td>736696</td>\n",
       "      <td>60.80</td>\n",
       "      <td>51.08</td>\n",
       "      <td>78.98</td>\n",
       "      <td>Anaheim</td>\n",
       "      <td>1.0</td>\n",
       "      <td>0.0</td>\n",
       "      <td>0.0</td>\n",
       "      <td>0.0</td>\n",
       "    </tr>\n",
       "    <tr>\n",
       "      <th>2</th>\n",
       "      <td>736697</td>\n",
       "      <td>61.34</td>\n",
       "      <td>51.08</td>\n",
       "      <td>73.94</td>\n",
       "      <td>Anaheim</td>\n",
       "      <td>1.0</td>\n",
       "      <td>0.0</td>\n",
       "      <td>0.0</td>\n",
       "      <td>0.0</td>\n",
       "    </tr>\n",
       "    <tr>\n",
       "      <th>3</th>\n",
       "      <td>736698</td>\n",
       "      <td>62.06</td>\n",
       "      <td>50.00</td>\n",
       "      <td>77.00</td>\n",
       "      <td>Anaheim</td>\n",
       "      <td>1.0</td>\n",
       "      <td>0.0</td>\n",
       "      <td>0.0</td>\n",
       "      <td>0.0</td>\n",
       "    </tr>\n",
       "    <tr>\n",
       "      <th>4</th>\n",
       "      <td>736699</td>\n",
       "      <td>62.24</td>\n",
       "      <td>51.98</td>\n",
       "      <td>75.02</td>\n",
       "      <td>Anaheim</td>\n",
       "      <td>1.0</td>\n",
       "      <td>0.0</td>\n",
       "      <td>0.0</td>\n",
       "      <td>0.0</td>\n",
       "    </tr>\n",
       "  </tbody>\n",
       "</table>\n",
       "</div>"
      ],
      "text/plain": [
       "     date  tavg_f  tmin_f  tmax_f Location  Location_Anaheim  Location_Epcot  \\\n",
       "0  736695   56.12   46.04   69.98  Anaheim               1.0             0.0   \n",
       "1  736696   60.80   51.08   78.98  Anaheim               1.0             0.0   \n",
       "2  736697   61.34   51.08   73.94  Anaheim               1.0             0.0   \n",
       "3  736698   62.06   50.00   77.00  Anaheim               1.0             0.0   \n",
       "4  736699   62.24   51.98   75.02  Anaheim               1.0             0.0   \n",
       "\n",
       "   Location_Hong Kong  Location_Paris  \n",
       "0                 0.0             0.0  \n",
       "1                 0.0             0.0  \n",
       "2                 0.0             0.0  \n",
       "3                 0.0             0.0  \n",
       "4                 0.0             0.0  "
      ]
     },
     "execution_count": 7,
     "metadata": {},
     "output_type": "execute_result"
    }
   ],
   "source": [
    "# Concatenate dataframes\n",
    "merged = pd.merge(df_temps, encode_df, left_index=True, right_index=True)\n",
    "merged.head()"
   ]
  },
  {
   "cell_type": "code",
   "execution_count": 8,
   "metadata": {},
   "outputs": [
    {
     "data": {
      "text/plain": [
       "Index(['date', 'tavg_f', 'tmin_f', 'tmax_f', 'Location', 'Location_Anaheim',\n",
       "       'Location_Epcot', 'Location_Hong Kong', 'Location_Paris'],\n",
       "      dtype='object')"
      ]
     },
     "execution_count": 8,
     "metadata": {},
     "output_type": "execute_result"
    }
   ],
   "source": [
    "\n",
    "merged.columns"
   ]
  },
  {
   "cell_type": "code",
   "execution_count": 9,
   "metadata": {},
   "outputs": [],
   "source": [
    "copy_df = merged.copy()"
   ]
  },
  {
   "cell_type": "code",
   "execution_count": 22,
   "metadata": {},
   "outputs": [],
   "source": [
    "# Split into Features and Target\n",
    "X = copy_df[['date',  'tmin_f', 'tmax_f', 'Location_Anaheim', 'Location_Epcot',\n",
    "       'Location_Hong Kong', 'Location_Paris']]\n",
    "y = copy_df['tavg_f'].to_numpy()\n",
    "y = y.flatten()"
   ]
  },
  {
   "cell_type": "code",
   "execution_count": 23,
   "metadata": {},
   "outputs": [],
   "source": [
    "# Split into Testing and Training Data\n",
    "X_train, X_test, y_train, y_test = train_test_split(X, y, random_state=1)"
   ]
  },
  {
   "cell_type": "code",
   "execution_count": 24,
   "metadata": {},
   "outputs": [],
   "source": [
    "# Scale Data\n",
    "scaler = StandardScaler()\n",
    "X_scaler = scaler.fit(X_train)\n",
    "\n",
    "X_train_scaled = X_scaler.transform(X_train)\n",
    "X_test_scaled = X_scaler.transform(X_test)"
   ]
  },
  {
   "cell_type": "code",
   "execution_count": 25,
   "metadata": {},
   "outputs": [
    {
     "data": {
      "text/plain": [
       "array([[ 1.13992743, -0.73037565, -0.72561829, ...,  1.75846861,\n",
       "        -0.57875673, -0.57852232],\n",
       "       [-1.2091707 ,  0.32779599, -0.17975556, ..., -0.56867663,\n",
       "         1.72784169, -0.57852232],\n",
       "       [ 1.37373141,  0.00632612, -0.28626536, ..., -0.56867663,\n",
       "        -0.57875673, -0.57852232],\n",
       "       ...,\n",
       "       [-0.29291185,  0.3813743 ,  0.31285227, ..., -0.56867663,\n",
       "        -0.57875673, -0.57852232],\n",
       "       [-0.44140897, -1.5474449 , -1.76408885, ..., -0.56867663,\n",
       "        -0.57875673,  1.72854179],\n",
       "       [-1.3513488 ,  0.67605501,  0.52587187, ..., -0.56867663,\n",
       "        -0.57875673, -0.57852232]])"
      ]
     },
     "execution_count": 25,
     "metadata": {},
     "output_type": "execute_result"
    }
   ],
   "source": [
    "# Preview scaled data\n",
    "X_train_scaled"
   ]
  },
  {
   "cell_type": "code",
   "execution_count": 34,
   "metadata": {},
   "outputs": [],
   "source": [
    "# Create model\n",
    "rf_model = RandomForestRegressor(n_estimators=500, random_state=78)"
   ]
  },
  {
   "cell_type": "code",
   "execution_count": 35,
   "metadata": {},
   "outputs": [],
   "source": [
    "# Fit model\n",
    "rf_model = rf_model.fit(X_train_scaled, y_train)"
   ]
  },
  {
   "cell_type": "code",
   "execution_count": 36,
   "metadata": {},
   "outputs": [],
   "source": [
    "# Predict from model\n",
    "predictions = rf_model.predict(X_test_scaled)"
   ]
  },
  {
   "cell_type": "code",
   "execution_count": 40,
   "metadata": {},
   "outputs": [
    {
     "data": {
      "text/plain": [
       "array([71.9654 , 51.64412, 74.2946 , ..., 81.27356, 80.16008, 61.1996 ])"
      ]
     },
     "execution_count": 40,
     "metadata": {},
     "output_type": "execute_result"
    }
   ],
   "source": [
    "# Preview prediction results\n",
    "predictions"
   ]
  },
  {
   "cell_type": "code",
   "execution_count": 41,
   "metadata": {},
   "outputs": [
    {
     "data": {
      "text/html": [
       "<div>\n",
       "<style scoped>\n",
       "    .dataframe tbody tr th:only-of-type {\n",
       "        vertical-align: middle;\n",
       "    }\n",
       "\n",
       "    .dataframe tbody tr th {\n",
       "        vertical-align: top;\n",
       "    }\n",
       "\n",
       "    .dataframe thead th {\n",
       "        text-align: right;\n",
       "    }\n",
       "</style>\n",
       "<table border=\"1\" class=\"dataframe\">\n",
       "  <thead>\n",
       "    <tr style=\"text-align: right;\">\n",
       "      <th></th>\n",
       "      <th>Prediction</th>\n",
       "      <th>Actual</th>\n",
       "    </tr>\n",
       "  </thead>\n",
       "  <tbody>\n",
       "    <tr>\n",
       "      <th>0</th>\n",
       "      <td>71.96540</td>\n",
       "      <td>71.60</td>\n",
       "    </tr>\n",
       "    <tr>\n",
       "      <th>1</th>\n",
       "      <td>51.64412</td>\n",
       "      <td>50.36</td>\n",
       "    </tr>\n",
       "    <tr>\n",
       "      <th>2</th>\n",
       "      <td>74.29460</td>\n",
       "      <td>74.48</td>\n",
       "    </tr>\n",
       "    <tr>\n",
       "      <th>3</th>\n",
       "      <td>55.55264</td>\n",
       "      <td>56.12</td>\n",
       "    </tr>\n",
       "    <tr>\n",
       "      <th>4</th>\n",
       "      <td>72.11264</td>\n",
       "      <td>72.32</td>\n",
       "    </tr>\n",
       "    <tr>\n",
       "      <th>...</th>\n",
       "      <td>...</td>\n",
       "      <td>...</td>\n",
       "    </tr>\n",
       "    <tr>\n",
       "      <th>2185</th>\n",
       "      <td>64.96448</td>\n",
       "      <td>64.76</td>\n",
       "    </tr>\n",
       "    <tr>\n",
       "      <th>2186</th>\n",
       "      <td>64.54688</td>\n",
       "      <td>62.24</td>\n",
       "    </tr>\n",
       "    <tr>\n",
       "      <th>2187</th>\n",
       "      <td>81.27356</td>\n",
       "      <td>80.96</td>\n",
       "    </tr>\n",
       "    <tr>\n",
       "      <th>2188</th>\n",
       "      <td>80.16008</td>\n",
       "      <td>79.16</td>\n",
       "    </tr>\n",
       "    <tr>\n",
       "      <th>2189</th>\n",
       "      <td>61.19960</td>\n",
       "      <td>61.16</td>\n",
       "    </tr>\n",
       "  </tbody>\n",
       "</table>\n",
       "<p>2190 rows × 2 columns</p>\n",
       "</div>"
      ],
      "text/plain": [
       "      Prediction  Actual\n",
       "0       71.96540   71.60\n",
       "1       51.64412   50.36\n",
       "2       74.29460   74.48\n",
       "3       55.55264   56.12\n",
       "4       72.11264   72.32\n",
       "...          ...     ...\n",
       "2185    64.96448   64.76\n",
       "2186    64.54688   62.24\n",
       "2187    81.27356   80.96\n",
       "2188    80.16008   79.16\n",
       "2189    61.19960   61.16\n",
       "\n",
       "[2190 rows x 2 columns]"
      ]
     },
     "execution_count": 41,
     "metadata": {},
     "output_type": "execute_result"
    }
   ],
   "source": [
    "# Preview predictions and actual results\n",
    "pd.DataFrame({\"Prediction\": predictions, \"Actual\": y_test})"
   ]
  },
  {
   "cell_type": "code",
   "execution_count": 42,
   "metadata": {},
   "outputs": [
    {
     "name": "stdout",
     "output_type": "stream",
     "text": [
      "Mean Squared Error: 0.8948767650411005\n",
      "R-squared: 0.9942516420419406\n"
     ]
    }
   ],
   "source": [
    "# Evaluate the model\n",
    "mse = mean_squared_error(y_test, predictions)\n",
    "print(f'Mean Squared Error: {mse}')\n",
    "\n",
    "r2 = r2_score(y_test, predictions)\n",
    "print(f'R-squared: {r2}')"
   ]
  },
  {
   "cell_type": "code",
   "execution_count": 43,
   "metadata": {},
   "outputs": [],
   "source": [
    "# User input\n",
    "location_input = input(\"Enter the location (Anaheim, Epcot, Hong Kong, Paris): \")\n",
    "date_input = input(\"Enter the date (YYYY-MM-DD): \")\n",
    "tmin_input = float(input(\"Enter the expected minimum temperature (°F)\"))\n",
    "tmax_input = float(input(\"Enter the expected maximum temperature (°F)\"))"
   ]
  },
  {
   "cell_type": "code",
   "execution_count": 44,
   "metadata": {},
   "outputs": [
    {
     "name": "stdout",
     "output_type": "stream",
     "text": [
      "Epcot 2025-02-04 68.0 82.0\n"
     ]
    }
   ],
   "source": [
    "# View user input\n",
    "print(location_input, date_input, tmin_input, tmax_input)"
   ]
  },
  {
   "cell_type": "code",
   "execution_count": 45,
   "metadata": {},
   "outputs": [
    {
     "data": {
      "text/plain": [
       "array([[7.39286e+05, 0.00000e+00, 1.00000e+00, 0.00000e+00, 0.00000e+00,\n",
       "        6.80000e+01, 8.20000e+01]])"
      ]
     },
     "execution_count": 45,
     "metadata": {},
     "output_type": "execute_result"
    }
   ],
   "source": [
    "# Use input with model to predict temperature\n",
    "locations = ['Anaheim', 'Epcot', 'Hong Kong', 'Paris']\n",
    "binary_features = [1 if loc == location_input else 0 for loc in locations]\n",
    "date_num = pd.to_datetime(date_input).date()\n",
    "date_ord = date_num.toordinal()\n",
    "input_features = np.array([[date_ord] + binary_features + [tmin_input, tmax_input]])\n",
    "input_features"
   ]
  },
  {
   "cell_type": "code",
   "execution_count": 47,
   "metadata": {},
   "outputs": [
    {
     "name": "stdout",
     "output_type": "stream",
     "text": [
      "The predicted average temperature in Epcot on 2025-02-04 is: 75.64 °F\n"
     ]
    }
   ],
   "source": [
    "# Predict using User Input\n",
    "predicted_temperature = rf_model.predict(input_features)\n",
    "print(f\"The predicted average temperature in {location_input} on {date_input} is: {round(predicted_temperature[0], 2)} °F\")"
   ]
  }
 ],
 "metadata": {
  "kernelspec": {
   "display_name": "dev",
   "language": "python",
   "name": "python3"
  },
  "language_info": {
   "codemirror_mode": {
    "name": "ipython",
    "version": 3
   },
   "file_extension": ".py",
   "mimetype": "text/x-python",
   "name": "python",
   "nbconvert_exporter": "python",
   "pygments_lexer": "ipython3",
   "version": "3.10.14"
  }
 },
 "nbformat": 4,
 "nbformat_minor": 2
}
