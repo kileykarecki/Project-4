{
 "cells": [
  {
   "cell_type": "code",
   "execution_count": 2,
   "id": "262edcf2",
   "metadata": {},
   "outputs": [],
   "source": [
    "import pandas as pd\n",
    "import requests\n",
    "import json\n",
    "import csv"
   ]
  },
  {
   "cell_type": "code",
   "execution_count": 3,
   "id": "990d665b",
   "metadata": {},
   "outputs": [],
   "source": [
    "url = \"https://queue-times.com/parks/17/queue_times.json\"\n",
    "disneyland_CA_data = []"
   ]
  },
  {
   "cell_type": "code",
   "execution_count": 6,
   "id": "539b85d2",
   "metadata": {},
   "outputs": [
    {
     "name": "stdout",
     "output_type": "stream",
     "text": [
      "{'lands': [{'id': 890, 'name': 'Avengers Campus', 'rides': [{'id': 329, 'name': 'Guardians of the Galaxy - Mission: BREAKOUT!', 'is_open': False, 'wait_time': 0, 'last_updated': '2025-01-22T07:26:46.000Z'}, {'id': 11112, 'name': 'Guardians of the Galaxy - Monsters After Dark', 'is_open': False, 'wait_time': 0, 'last_updated': '2025-01-22T07:26:46.000Z'}, {'id': 8843, 'name': 'WEB SLINGERS: A Spider-Man Adventure', 'is_open': False, 'wait_time': 0, 'last_updated': '2025-01-22T07:26:46.000Z'}, {'id': 10907, 'name': 'WEB SLINGERS: A Spider-Man Adventure Single Rider', 'is_open': False, 'wait_time': 0, 'last_updated': '2025-01-22T07:26:46.000Z'}]}, {'id': 118, 'name': 'Buena Vista Street', 'rides': [{'id': 873, 'name': 'Red Car Trolley', 'is_open': False, 'wait_time': 0, 'last_updated': '2025-01-22T07:26:46.000Z'}]}, {'id': 120, 'name': 'Cars Land', 'rides': [{'id': 13961, 'name': \"Luigi's Rollickin' Roadsters\", 'is_open': False, 'wait_time': 0, 'last_updated': '2025-01-22T07:26:46.000Z'}, {'id': 315, 'name': \"Mater's Junkyard Jamboree\", 'is_open': False, 'wait_time': 0, 'last_updated': '2025-01-22T07:26:46.000Z'}, {'id': 295, 'name': 'Radiator Springs Racers', 'is_open': False, 'wait_time': 0, 'last_updated': '2025-01-22T07:26:46.000Z'}, {'id': 10904, 'name': 'Radiator Springs Racers Single Rider', 'is_open': False, 'wait_time': 0, 'last_updated': '2025-01-22T07:26:46.000Z'}]}, {'id': 121, 'name': 'Grizzly Peak', 'rides': [{'id': 302, 'name': 'Grizzly River Run', 'is_open': False, 'wait_time': 0, 'last_updated': '2025-01-22T07:26:46.000Z'}, {'id': 293, 'name': 'Redwood Creek Challenge Trail', 'is_open': False, 'wait_time': 0, 'last_updated': '2025-01-22T07:26:46.000Z'}, {'id': 312, 'name': \"Soarin' Around the World\", 'is_open': False, 'wait_time': 0, 'last_updated': '2025-01-22T07:26:46.000Z'}]}, {'id': 122, 'name': 'Hollywood Land', 'rides': [{'id': 321, 'name': 'Animation Academy', 'is_open': True, 'wait_time': 0, 'last_updated': '2025-01-22T07:26:46.000Z'}, {'id': 6440, 'name': \"Mickey's PhilharMagic\", 'is_open': False, 'wait_time': 0, 'last_updated': '2025-01-22T07:26:46.000Z'}, {'id': 291, 'name': 'Monsters, Inc. Mike & Sulley to the Rescue!', 'is_open': False, 'wait_time': 0, 'last_updated': '2025-01-22T07:26:46.000Z'}, {'id': 868, 'name': \"Sorcerer's Workshop\", 'is_open': False, 'wait_time': 0, 'last_updated': '2025-01-22T07:26:46.000Z'}, {'id': 294, 'name': 'Turtle Talk with Crush', 'is_open': True, 'wait_time': 0, 'last_updated': '2025-01-22T07:26:46.000Z'}]}, {'id': 359, 'name': 'Paradise Gardens Park', 'rides': [{'id': 298, 'name': 'Golden Zephyr', 'is_open': False, 'wait_time': 0, 'last_updated': '2025-01-22T07:26:46.000Z'}, {'id': 319, 'name': \"Goofy's Sky School\", 'is_open': False, 'wait_time': 0, 'last_updated': '2025-01-22T07:26:46.000Z'}, {'id': 301, 'name': 'Silly Symphony Swings', 'is_open': False, 'wait_time': 0, 'last_updated': '2025-01-22T07:26:46.000Z'}, {'id': 10905, 'name': 'Silly Symphony Swings Single Rider', 'is_open': False, 'wait_time': 0, 'last_updated': '2025-01-22T07:26:46.000Z'}, {'id': 316, 'name': \"The Little Mermaid - Ariel's Undersea Adventure\", 'is_open': False, 'wait_time': 0, 'last_updated': '2025-01-22T07:26:46.000Z'}, {'id': 7298, 'name': 'World of Color - Season of Light', 'is_open': False, 'wait_time': 0, 'last_updated': '2025-01-22T07:26:46.000Z'}, {'id': 11528, 'name': 'World of Color – ONE', 'is_open': True, 'wait_time': 0, 'last_updated': '2025-01-22T07:26:46.000Z'}]}, {'id': 124, 'name': 'Pixar Pier', 'rides': [{'id': 13960, 'name': 'Games of Pixar Pier', 'is_open': False, 'wait_time': 0, 'last_updated': '2025-01-22T07:26:46.000Z'}, {'id': 322, 'name': 'Incredicoaster', 'is_open': False, 'wait_time': 0, 'last_updated': '2025-01-22T07:26:46.000Z'}, {'id': 10906, 'name': 'Incredicoaster Single Rider', 'is_open': False, 'wait_time': 0, 'last_updated': '2025-01-22T07:26:46.000Z'}, {'id': 6643, 'name': 'Inside Out Emotional Whirlwind', 'is_open': False, 'wait_time': 0, 'last_updated': '2025-01-22T07:26:46.000Z'}, {'id': 310, 'name': \"Jessie's Critter Carousel\", 'is_open': False, 'wait_time': 0, 'last_updated': '2025-01-22T07:26:46.000Z'}, {'id': 300, 'name': \"Jumpin' Jellyfish\", 'is_open': False, 'wait_time': 0, 'last_updated': '2025-01-22T07:26:46.000Z'}, {'id': 311, 'name': 'Pixar Pal-A-Round - Swinging', 'is_open': False, 'wait_time': 0, 'last_updated': '2025-01-22T07:26:46.000Z'}, {'id': 5557, 'name': 'Pixar Pal-A-Round – Non-Swinging', 'is_open': False, 'wait_time': 0, 'last_updated': '2025-01-22T07:26:46.000Z'}, {'id': 313, 'name': 'Toy Story Midway Mania!', 'is_open': False, 'wait_time': 0, 'last_updated': '2025-01-22T07:26:46.000Z'}]}, {'id': 960, 'name': 'San Fransokyo Square', 'rides': [{'id': 13959, 'name': 'The Bakery Tour', 'is_open': True, 'wait_time': 0, 'last_updated': '2025-01-22T07:26:46.000Z'}]}], 'rides': []}\n"
     ]
    }
   ],
   "source": [
    "response = requests.get(url)\n",
    "response_json = response.json()\n",
    "print(response_json)"
   ]
  },
  {
   "cell_type": "code",
   "execution_count": 10,
   "id": "f3c1239c",
   "metadata": {},
   "outputs": [],
   "source": [
    "if isinstance(response_json, dict):\n",
    "    data_list = response_json.get('desired_key', [])\n",
    "    for x in data_list:\n",
    "        info = {}\n",
    "        info[\"Ride\"] = x[\"name\"]\n",
    "        info[\"Wait Time\"] = x[\"wait_time\"]\n",
    "    disneyland_CA_data.append(info)\n",
    "\n"
   ]
  },
  {
   "cell_type": "code",
   "execution_count": 11,
   "id": "35b70976",
   "metadata": {},
   "outputs": [
    {
     "data": {
      "text/html": [
       "<div>\n",
       "<style scoped>\n",
       "    .dataframe tbody tr th:only-of-type {\n",
       "        vertical-align: middle;\n",
       "    }\n",
       "\n",
       "    .dataframe tbody tr th {\n",
       "        vertical-align: top;\n",
       "    }\n",
       "\n",
       "    .dataframe thead th {\n",
       "        text-align: right;\n",
       "    }\n",
       "</style>\n",
       "<table border=\"1\" class=\"dataframe\">\n",
       "  <thead>\n",
       "    <tr style=\"text-align: right;\">\n",
       "      <th></th>\n",
       "    </tr>\n",
       "  </thead>\n",
       "  <tbody>\n",
       "    <tr>\n",
       "      <th>0</th>\n",
       "    </tr>\n",
       "    <tr>\n",
       "      <th>1</th>\n",
       "    </tr>\n",
       "  </tbody>\n",
       "</table>\n",
       "</div>"
      ],
      "text/plain": [
       "Empty DataFrame\n",
       "Columns: []\n",
       "Index: [0, 1]"
      ]
     },
     "execution_count": 11,
     "metadata": {},
     "output_type": "execute_result"
    }
   ],
   "source": [
    "disneyland_df = pd.DataFrame(disneyland_CA_data)\n",
    "\n",
    "disneyland_df.head()"
   ]
  },
  {
   "cell_type": "code",
   "execution_count": null,
   "id": "84de9cd0",
   "metadata": {},
   "outputs": [],
   "source": []
  }
 ],
 "metadata": {
  "kernelspec": {
   "display_name": "Python 3 (ipykernel)",
   "language": "python",
   "name": "python3"
  },
  "language_info": {
   "codemirror_mode": {
    "name": "ipython",
    "version": 3
   },
   "file_extension": ".py",
   "mimetype": "text/x-python",
   "name": "python",
   "nbconvert_exporter": "python",
   "pygments_lexer": "ipython3",
   "version": "3.10.14"
  }
 },
 "nbformat": 4,
 "nbformat_minor": 5
}
