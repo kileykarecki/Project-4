{
 "cells": [
  {
   "cell_type": "code",
   "execution_count": 7,
   "id": "312bc41f",
   "metadata": {},
   "outputs": [],
   "source": [
    "import requests\n",
    "import json\n",
    "import csv"
   ]
  },
  {
   "cell_type": "code",
   "execution_count": 8,
   "id": "4ad3ccaa",
   "metadata": {},
   "outputs": [],
   "source": [
    "# Function to get the list of parks\n",
    "def get_parks():\n",
    "    url = \"https://queue-times.com/parks.json\"\n",
    "    response = requests.get(url)\n",
    "    if response.status_code == 200:\n",
    "        return response.json()\n",
    "    else:\n",
    "        print(\"Failed to fetch parks data.\")\n",
    "        return []"
   ]
  },
  {
   "cell_type": "code",
   "execution_count": 9,
   "id": "8b2390ba",
   "metadata": {},
   "outputs": [],
   "source": [
    "# Function to find Disneyland CA\n",
    "def find_disneyland_ca(parks_data):\n",
    "    for park_group in parks_data:\n",
    "        for park in park_group['parks']:\n",
    "            if \"Disneyland\" in park['name'] and \"California\" in park['name']:\n",
    "                return park['id'], park['name']\n",
    "    return None, None"
   ]
  },
  {
   "cell_type": "code",
   "execution_count": 10,
   "id": "5c5fb669",
   "metadata": {},
   "outputs": [],
   "source": [
    "# Function to fetch queue times for a specific park\n",
    "def get_queue_times(park_id):\n",
    "    url = f\"https://queue-times.com/parks/{park_id}/queue_times.json\"\n",
    "    response = requests.get(url)\n",
    "    if response.status_code == 200:\n",
    "        return response.json()\n",
    "    else:\n",
    "        print(\"Failed to fetch queue times data.\")\n",
    "        return {}"
   ]
  },
  {
   "cell_type": "code",
   "execution_count": 11,
   "id": "8dfd514b",
   "metadata": {},
   "outputs": [],
   "source": [
    "# Function to export data to CSV\n",
    "def export_to_csv(queue_times, filename=\"disneyland_ca_queue_times.csv\"):\n",
    "    try:\n",
    "        with open(filename, mode=\"w\", newline=\"\", encoding=\"utf-8\") as file:\n",
    "            writer = csv.writer(file)\n",
    "            # Write header row\n",
    "            writer.writerow([\"Land\", \"Ride\", \"Is Open\", \"Wait Time (minutes)\", \"Last Updated (UTC)\"])\n",
    "            \n",
    "            # Write ride data\n",
    "            for land in queue_times.get(\"lands\", []):\n",
    "                for ride in land[\"rides\"]:\n",
    "                    writer.writerow([\n",
    "                        land[\"name\"],\n",
    "                        ride[\"name\"],\n",
    "                        ride[\"is_open\"],\n",
    "                        ride[\"wait_time\"],\n",
    "                        ride[\"last_updated\"]\n",
    "                    ])\n",
    "        print(f\"Queue times exported to '{filename}'.\")\n",
    "    except Exception as e:\n",
    "        print(f\"Failed to write CSV: {e}\")\n"
   ]
  },
  {
   "cell_type": "code",
   "execution_count": 12,
   "id": "a0974c2b",
   "metadata": {},
   "outputs": [],
   "source": [
    "# Main script\n",
    "if __name__ == \"__main__\":\n",
    "    parks_data = get_parks()\n",
    "    \n",
    "    if parks_data:\n",
    "        park_id, park_name = find_disneyland_ca(parks_data)\n",
    "        \n",
    "        if park_id:\n",
    "            print(f\"Found park: {park_name} (ID: {park_id})\")\n",
    "            queue_times = get_queue_times(park_id)"
   ]
  },
  {
   "cell_type": "code",
   "execution_count": 13,
   "id": "c05ce8ce",
   "metadata": {},
   "outputs": [
    {
     "ename": "NameError",
     "evalue": "name 'queue_times' is not defined",
     "output_type": "error",
     "traceback": [
      "\u001b[1;31m---------------------------------------------------------------------------\u001b[0m",
      "\u001b[1;31mNameError\u001b[0m                                 Traceback (most recent call last)",
      "Cell \u001b[1;32mIn[13], line 2\u001b[0m\n\u001b[0;32m      1\u001b[0m \u001b[38;5;66;03m# Save to CSV\u001b[39;00m\n\u001b[1;32m----> 2\u001b[0m export_to_csv(\u001b[43mqueue_times\u001b[49m)\n",
      "\u001b[1;31mNameError\u001b[0m: name 'queue_times' is not defined"
     ]
    }
   ],
   "source": [
    "# Save to CSV\n",
    "export_to_csv(queue_times)"
   ]
  },
  {
   "cell_type": "code",
   "execution_count": null,
   "id": "4a7b6d16",
   "metadata": {},
   "outputs": [],
   "source": [
    "# Optionally save to JSON as well\n",
    "            with open(\"disneyland_ca_queue_times.json\", \"w\") as f:\n",
    "                json.dump(queue_times, f, indent=4)\n",
    "            \n",
    "            print(\"Data saved to CSV and JSON.\")\n",
    "        else:\n",
    "            print(\"Disneyland California not found.\")"
   ]
  },
  {
   "cell_type": "code",
   "execution_count": null,
   "id": "d87eb71a",
   "metadata": {},
   "outputs": [],
   "source": []
  }
 ],
 "metadata": {
  "kernelspec": {
   "display_name": "Python 3 (ipykernel)",
   "language": "python",
   "name": "python3"
  },
  "language_info": {
   "codemirror_mode": {
    "name": "ipython",
    "version": 3
   },
   "file_extension": ".py",
   "mimetype": "text/x-python",
   "name": "python",
   "nbconvert_exporter": "python",
   "pygments_lexer": "ipython3",
   "version": "3.10.14"
  }
 },
 "nbformat": 4,
 "nbformat_minor": 5
}
