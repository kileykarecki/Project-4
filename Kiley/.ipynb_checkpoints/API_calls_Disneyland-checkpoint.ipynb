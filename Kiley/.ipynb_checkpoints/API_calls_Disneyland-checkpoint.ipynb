{
 "cells": [
  {
   "cell_type": "code",
   "execution_count": null,
   "id": "56db9f37",
   "metadata": {},
   "outputs": [],
   "source": [
    "#import libraries\n",
    "import requests\n",
    "import json\n",
    "import csv\n",
    "from pprint import pprint\n",
    "import pandas as pd"
   ]
  },
  {
   "cell_type": "code",
   "execution_count": null,
   "id": "79ca5ee8",
   "metadata": {},
   "outputs": [],
   "source": [
    "# Set url for API\n",
    "url = \"https://queue-times.com/parks/17/queue_times.json\""
   ]
  },
  {
   "cell_type": "code",
   "execution_count": null,
   "id": "d5a3e1f0",
   "metadata": {},
   "outputs": [],
   "source": [
    "#check connection\n",
    "print(requests.get(url))"
   ]
  }
 ],
 "metadata": {
  "kernelspec": {
   "display_name": "Python 3 (ipykernel)",
   "language": "python",
   "name": "python3"
  },
  "language_info": {
   "codemirror_mode": {
    "name": "ipython",
    "version": 3
   },
   "file_extension": ".py",
   "mimetype": "text/x-python",
   "name": "python",
   "nbconvert_exporter": "python",
   "pygments_lexer": "ipython3",
   "version": "3.10.14"
  }
 },
 "nbformat": 4,
 "nbformat_minor": 5
}
